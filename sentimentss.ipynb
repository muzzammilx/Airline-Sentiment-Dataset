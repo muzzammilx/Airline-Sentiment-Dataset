{
 "cells": [
  {
   "cell_type": "code",
   "execution_count": 1,
   "metadata": {
    "_cell_guid": "b1076dfc-b9ad-4769-8c92-a6c4dae69d19",
    "_uuid": "8f2839f25d086af736a60e9eeb907d3b93b6e0e5",
    "execution": {
     "iopub.execute_input": "2023-11-06T18:08:04.545779Z",
     "iopub.status.busy": "2023-11-06T18:08:04.545405Z",
     "iopub.status.idle": "2023-11-06T18:08:04.559873Z",
     "shell.execute_reply": "2023-11-06T18:08:04.558789Z",
     "shell.execute_reply.started": "2023-11-06T18:08:04.545751Z"
    }
   },
   "outputs": [],
   "source": [
    "# This Python 3 environment comes with many helpful analytics libraries installed\n",
    "# It is defined by the kaggle/python Docker image: https://github.com/kaggle/docker-python\n",
    "# For example, here's several helpful packages to load\n",
    "\n",
    "import numpy as np # linear algebra\n",
    "import pandas as pd # data processing, CSV file I/O (e.g. pd.read_csv)\n",
    "\n",
    "# Input data files are available in the read-only \"../input/\" directory\n",
    "# For example, running this (by clicking run or pressing Shift+Enter) will list all files under the input directory\n",
    "\n",
    "import os\n",
    "for dirname, _, filenames in os.walk('/kaggle/input'):\n",
    "    for filename in filenames:\n",
    "        print(os.path.join(dirname, filename))\n",
    "\n",
    "# You can write up to 20GB to the current directory (/kaggle/working/) that gets preserved as output when you create a version using \"Save & Run All\" \n",
    "# You can also write temporary files to /kaggle/temp/, but they won't be saved outside of the current session"
   ]
  },
  {
   "cell_type": "code",
   "execution_count": 2,
   "metadata": {
    "execution": {
     "iopub.execute_input": "2023-11-06T18:08:04.562625Z",
     "iopub.status.busy": "2023-11-06T18:08:04.561526Z",
     "iopub.status.idle": "2023-11-06T18:08:04.569854Z",
     "shell.execute_reply": "2023-11-06T18:08:04.568568Z",
     "shell.execute_reply.started": "2023-11-06T18:08:04.562571Z"
    }
   },
   "outputs": [],
   "source": [
    "import pandas as pd\n",
    "import numpy as np\n",
    "from matplotlib import pyplot as plt\n",
    "import seaborn as sn\n",
    "from sklearn.model_selection import train_test_split\n",
    "from sklearn.feature_extraction.text import TfidfVectorizer\n",
    "from sklearn.svm import SVC\n",
    "from sklearn.pipeline import make_pipeline\n",
    "from sklearn.decomposition import PCA\n",
    "from sklearn.preprocessing import StandardScaler\n",
    "from sklearn.model_selection import GridSearchCV\n",
    "from sklearn.tree import DecisionTreeClassifier\n",
    "from sklearn.ensemble import RandomForestClassifier, VotingClassifier\n",
    "from sklearn.linear_model import SGDClassifier\n",
    "from sklearn.naive_bayes import GaussianNB, MultinomialNB, ComplementNB, BernoulliNB\n",
    "import re\n",
    "from sklearn.metrics import accuracy_score,f1_score, ConfusionMatrixDisplay,roc_curve, precision_score, recall_score"
   ]
  },
  {
   "cell_type": "code",
   "execution_count": 3,
   "metadata": {
    "execution": {
     "iopub.execute_input": "2023-11-06T18:08:04.578456Z",
     "iopub.status.busy": "2023-11-06T18:08:04.577764Z",
     "iopub.status.idle": "2023-11-06T18:08:04.654803Z",
     "shell.execute_reply": "2023-11-06T18:08:04.653454Z",
     "shell.execute_reply.started": "2023-11-06T18:08:04.578422Z"
    }
   },
   "outputs": [
    {
     "data": {
      "text/html": [
       "<div>\n",
       "<style scoped>\n",
       "    .dataframe tbody tr th:only-of-type {\n",
       "        vertical-align: middle;\n",
       "    }\n",
       "\n",
       "    .dataframe tbody tr th {\n",
       "        vertical-align: top;\n",
       "    }\n",
       "\n",
       "    .dataframe thead th {\n",
       "        text-align: right;\n",
       "    }\n",
       "</style>\n",
       "<table border=\"1\" class=\"dataframe\">\n",
       "  <thead>\n",
       "    <tr style=\"text-align: right;\">\n",
       "      <th></th>\n",
       "      <th>tweet_id</th>\n",
       "      <th>airline_sentiment</th>\n",
       "      <th>airline_sentiment_confidence</th>\n",
       "      <th>negativereason</th>\n",
       "      <th>negativereason_confidence</th>\n",
       "      <th>airline</th>\n",
       "      <th>airline_sentiment_gold</th>\n",
       "      <th>name</th>\n",
       "      <th>negativereason_gold</th>\n",
       "      <th>retweet_count</th>\n",
       "      <th>text</th>\n",
       "      <th>tweet_coord</th>\n",
       "      <th>tweet_created</th>\n",
       "      <th>tweet_location</th>\n",
       "      <th>user_timezone</th>\n",
       "    </tr>\n",
       "  </thead>\n",
       "  <tbody>\n",
       "    <tr>\n",
       "      <th>0</th>\n",
       "      <td>570306133677760513</td>\n",
       "      <td>neutral</td>\n",
       "      <td>1.0000</td>\n",
       "      <td>NaN</td>\n",
       "      <td>NaN</td>\n",
       "      <td>Virgin America</td>\n",
       "      <td>NaN</td>\n",
       "      <td>cairdin</td>\n",
       "      <td>NaN</td>\n",
       "      <td>0</td>\n",
       "      <td>@VirginAmerica What @dhepburn said.</td>\n",
       "      <td>NaN</td>\n",
       "      <td>2015-02-24 11:35:52 -0800</td>\n",
       "      <td>NaN</td>\n",
       "      <td>Eastern Time (US &amp; Canada)</td>\n",
       "    </tr>\n",
       "    <tr>\n",
       "      <th>1</th>\n",
       "      <td>570301130888122368</td>\n",
       "      <td>positive</td>\n",
       "      <td>0.3486</td>\n",
       "      <td>NaN</td>\n",
       "      <td>0.0000</td>\n",
       "      <td>Virgin America</td>\n",
       "      <td>NaN</td>\n",
       "      <td>jnardino</td>\n",
       "      <td>NaN</td>\n",
       "      <td>0</td>\n",
       "      <td>@VirginAmerica plus you've added commercials t...</td>\n",
       "      <td>NaN</td>\n",
       "      <td>2015-02-24 11:15:59 -0800</td>\n",
       "      <td>NaN</td>\n",
       "      <td>Pacific Time (US &amp; Canada)</td>\n",
       "    </tr>\n",
       "    <tr>\n",
       "      <th>2</th>\n",
       "      <td>570301083672813571</td>\n",
       "      <td>neutral</td>\n",
       "      <td>0.6837</td>\n",
       "      <td>NaN</td>\n",
       "      <td>NaN</td>\n",
       "      <td>Virgin America</td>\n",
       "      <td>NaN</td>\n",
       "      <td>yvonnalynn</td>\n",
       "      <td>NaN</td>\n",
       "      <td>0</td>\n",
       "      <td>@VirginAmerica I didn't today... Must mean I n...</td>\n",
       "      <td>NaN</td>\n",
       "      <td>2015-02-24 11:15:48 -0800</td>\n",
       "      <td>Lets Play</td>\n",
       "      <td>Central Time (US &amp; Canada)</td>\n",
       "    </tr>\n",
       "    <tr>\n",
       "      <th>3</th>\n",
       "      <td>570301031407624196</td>\n",
       "      <td>negative</td>\n",
       "      <td>1.0000</td>\n",
       "      <td>Bad Flight</td>\n",
       "      <td>0.7033</td>\n",
       "      <td>Virgin America</td>\n",
       "      <td>NaN</td>\n",
       "      <td>jnardino</td>\n",
       "      <td>NaN</td>\n",
       "      <td>0</td>\n",
       "      <td>@VirginAmerica it's really aggressive to blast...</td>\n",
       "      <td>NaN</td>\n",
       "      <td>2015-02-24 11:15:36 -0800</td>\n",
       "      <td>NaN</td>\n",
       "      <td>Pacific Time (US &amp; Canada)</td>\n",
       "    </tr>\n",
       "    <tr>\n",
       "      <th>4</th>\n",
       "      <td>570300817074462722</td>\n",
       "      <td>negative</td>\n",
       "      <td>1.0000</td>\n",
       "      <td>Can't Tell</td>\n",
       "      <td>1.0000</td>\n",
       "      <td>Virgin America</td>\n",
       "      <td>NaN</td>\n",
       "      <td>jnardino</td>\n",
       "      <td>NaN</td>\n",
       "      <td>0</td>\n",
       "      <td>@VirginAmerica and it's a really big bad thing...</td>\n",
       "      <td>NaN</td>\n",
       "      <td>2015-02-24 11:14:45 -0800</td>\n",
       "      <td>NaN</td>\n",
       "      <td>Pacific Time (US &amp; Canada)</td>\n",
       "    </tr>\n",
       "  </tbody>\n",
       "</table>\n",
       "</div>"
      ],
      "text/plain": [
       "             tweet_id airline_sentiment  airline_sentiment_confidence  \\\n",
       "0  570306133677760513           neutral                        1.0000   \n",
       "1  570301130888122368          positive                        0.3486   \n",
       "2  570301083672813571           neutral                        0.6837   \n",
       "3  570301031407624196          negative                        1.0000   \n",
       "4  570300817074462722          negative                        1.0000   \n",
       "\n",
       "  negativereason  negativereason_confidence         airline  \\\n",
       "0            NaN                        NaN  Virgin America   \n",
       "1            NaN                     0.0000  Virgin America   \n",
       "2            NaN                        NaN  Virgin America   \n",
       "3     Bad Flight                     0.7033  Virgin America   \n",
       "4     Can't Tell                     1.0000  Virgin America   \n",
       "\n",
       "  airline_sentiment_gold        name negativereason_gold  retweet_count  \\\n",
       "0                    NaN     cairdin                 NaN              0   \n",
       "1                    NaN    jnardino                 NaN              0   \n",
       "2                    NaN  yvonnalynn                 NaN              0   \n",
       "3                    NaN    jnardino                 NaN              0   \n",
       "4                    NaN    jnardino                 NaN              0   \n",
       "\n",
       "                                                text tweet_coord  \\\n",
       "0                @VirginAmerica What @dhepburn said.         NaN   \n",
       "1  @VirginAmerica plus you've added commercials t...         NaN   \n",
       "2  @VirginAmerica I didn't today... Must mean I n...         NaN   \n",
       "3  @VirginAmerica it's really aggressive to blast...         NaN   \n",
       "4  @VirginAmerica and it's a really big bad thing...         NaN   \n",
       "\n",
       "               tweet_created tweet_location               user_timezone  \n",
       "0  2015-02-24 11:35:52 -0800            NaN  Eastern Time (US & Canada)  \n",
       "1  2015-02-24 11:15:59 -0800            NaN  Pacific Time (US & Canada)  \n",
       "2  2015-02-24 11:15:48 -0800      Lets Play  Central Time (US & Canada)  \n",
       "3  2015-02-24 11:15:36 -0800            NaN  Pacific Time (US & Canada)  \n",
       "4  2015-02-24 11:14:45 -0800            NaN  Pacific Time (US & Canada)  "
      ]
     },
     "execution_count": 3,
     "metadata": {},
     "output_type": "execute_result"
    }
   ],
   "source": [
    "df =pd.read_csv('archive (1)\\Tweets.csv')\n",
    "df.head()"
   ]
  },
  {
   "cell_type": "code",
   "execution_count": 4,
   "metadata": {
    "execution": {
     "iopub.execute_input": "2023-11-06T18:08:04.657474Z",
     "iopub.status.busy": "2023-11-06T18:08:04.657140Z",
     "iopub.status.idle": "2023-11-06T18:08:04.674831Z",
     "shell.execute_reply": "2023-11-06T18:08:04.673717Z",
     "shell.execute_reply.started": "2023-11-06T18:08:04.657447Z"
    }
   },
   "outputs": [
    {
     "name": "stdout",
     "output_type": "stream",
     "text": [
      "<class 'pandas.core.frame.DataFrame'>\n",
      "RangeIndex: 14640 entries, 0 to 14639\n",
      "Data columns (total 15 columns):\n",
      " #   Column                        Non-Null Count  Dtype  \n",
      "---  ------                        --------------  -----  \n",
      " 0   tweet_id                      14640 non-null  int64  \n",
      " 1   airline_sentiment             14640 non-null  object \n",
      " 2   airline_sentiment_confidence  14640 non-null  float64\n",
      " 3   negativereason                9178 non-null   object \n",
      " 4   negativereason_confidence     10522 non-null  float64\n",
      " 5   airline                       14640 non-null  object \n",
      " 6   airline_sentiment_gold        40 non-null     object \n",
      " 7   name                          14640 non-null  object \n",
      " 8   negativereason_gold           32 non-null     object \n",
      " 9   retweet_count                 14640 non-null  int64  \n",
      " 10  text                          14640 non-null  object \n",
      " 11  tweet_coord                   1019 non-null   object \n",
      " 12  tweet_created                 14640 non-null  object \n",
      " 13  tweet_location                9907 non-null   object \n",
      " 14  user_timezone                 9820 non-null   object \n",
      "dtypes: float64(2), int64(2), object(11)\n",
      "memory usage: 1.7+ MB\n"
     ]
    }
   ],
   "source": [
    "df.info()"
   ]
  },
  {
   "cell_type": "code",
   "execution_count": 5,
   "metadata": {
    "execution": {
     "iopub.execute_input": "2023-11-06T18:08:04.676757Z",
     "iopub.status.busy": "2023-11-06T18:08:04.676392Z",
     "iopub.status.idle": "2023-11-06T18:08:04.705386Z",
     "shell.execute_reply": "2023-11-06T18:08:04.704273Z",
     "shell.execute_reply.started": "2023-11-06T18:08:04.676724Z"
    }
   },
   "outputs": [
    {
     "data": {
      "text/html": [
       "<div>\n",
       "<style scoped>\n",
       "    .dataframe tbody tr th:only-of-type {\n",
       "        vertical-align: middle;\n",
       "    }\n",
       "\n",
       "    .dataframe tbody tr th {\n",
       "        vertical-align: top;\n",
       "    }\n",
       "\n",
       "    .dataframe thead th {\n",
       "        text-align: right;\n",
       "    }\n",
       "</style>\n",
       "<table border=\"1\" class=\"dataframe\">\n",
       "  <thead>\n",
       "    <tr style=\"text-align: right;\">\n",
       "      <th></th>\n",
       "      <th>tweet_id</th>\n",
       "      <th>airline_sentiment_confidence</th>\n",
       "      <th>negativereason_confidence</th>\n",
       "      <th>retweet_count</th>\n",
       "    </tr>\n",
       "  </thead>\n",
       "  <tbody>\n",
       "    <tr>\n",
       "      <th>count</th>\n",
       "      <td>1.464000e+04</td>\n",
       "      <td>14640.000000</td>\n",
       "      <td>10522.000000</td>\n",
       "      <td>14640.000000</td>\n",
       "    </tr>\n",
       "    <tr>\n",
       "      <th>mean</th>\n",
       "      <td>5.692184e+17</td>\n",
       "      <td>0.900169</td>\n",
       "      <td>0.638298</td>\n",
       "      <td>0.082650</td>\n",
       "    </tr>\n",
       "    <tr>\n",
       "      <th>std</th>\n",
       "      <td>7.791112e+14</td>\n",
       "      <td>0.162830</td>\n",
       "      <td>0.330440</td>\n",
       "      <td>0.745778</td>\n",
       "    </tr>\n",
       "    <tr>\n",
       "      <th>min</th>\n",
       "      <td>5.675883e+17</td>\n",
       "      <td>0.335000</td>\n",
       "      <td>0.000000</td>\n",
       "      <td>0.000000</td>\n",
       "    </tr>\n",
       "    <tr>\n",
       "      <th>25%</th>\n",
       "      <td>5.685592e+17</td>\n",
       "      <td>0.692300</td>\n",
       "      <td>0.360600</td>\n",
       "      <td>0.000000</td>\n",
       "    </tr>\n",
       "    <tr>\n",
       "      <th>50%</th>\n",
       "      <td>5.694779e+17</td>\n",
       "      <td>1.000000</td>\n",
       "      <td>0.670600</td>\n",
       "      <td>0.000000</td>\n",
       "    </tr>\n",
       "    <tr>\n",
       "      <th>75%</th>\n",
       "      <td>5.698905e+17</td>\n",
       "      <td>1.000000</td>\n",
       "      <td>1.000000</td>\n",
       "      <td>0.000000</td>\n",
       "    </tr>\n",
       "    <tr>\n",
       "      <th>max</th>\n",
       "      <td>5.703106e+17</td>\n",
       "      <td>1.000000</td>\n",
       "      <td>1.000000</td>\n",
       "      <td>44.000000</td>\n",
       "    </tr>\n",
       "  </tbody>\n",
       "</table>\n",
       "</div>"
      ],
      "text/plain": [
       "           tweet_id  airline_sentiment_confidence  negativereason_confidence  \\\n",
       "count  1.464000e+04                  14640.000000               10522.000000   \n",
       "mean   5.692184e+17                      0.900169                   0.638298   \n",
       "std    7.791112e+14                      0.162830                   0.330440   \n",
       "min    5.675883e+17                      0.335000                   0.000000   \n",
       "25%    5.685592e+17                      0.692300                   0.360600   \n",
       "50%    5.694779e+17                      1.000000                   0.670600   \n",
       "75%    5.698905e+17                      1.000000                   1.000000   \n",
       "max    5.703106e+17                      1.000000                   1.000000   \n",
       "\n",
       "       retweet_count  \n",
       "count   14640.000000  \n",
       "mean        0.082650  \n",
       "std         0.745778  \n",
       "min         0.000000  \n",
       "25%         0.000000  \n",
       "50%         0.000000  \n",
       "75%         0.000000  \n",
       "max        44.000000  "
      ]
     },
     "execution_count": 5,
     "metadata": {},
     "output_type": "execute_result"
    }
   ],
   "source": [
    "df.describe()"
   ]
  },
  {
   "cell_type": "code",
   "execution_count": 6,
   "metadata": {
    "execution": {
     "iopub.execute_input": "2023-11-06T18:08:04.706992Z",
     "iopub.status.busy": "2023-11-06T18:08:04.706680Z",
     "iopub.status.idle": "2023-11-06T18:08:04.857098Z",
     "shell.execute_reply": "2023-11-06T18:08:04.856365Z",
     "shell.execute_reply.started": "2023-11-06T18:08:04.706963Z"
    }
   },
   "outputs": [
    {
     "data": {
      "text/plain": [
       "<AxesSubplot:xlabel='airline_sentiment', ylabel='count'>"
      ]
     },
     "execution_count": 6,
     "metadata": {},
     "output_type": "execute_result"
    },
    {
     "data": {
      "image/png": "[encoded data removed]",
      "text/plain": [
       "<Figure size 432x288 with 1 Axes>"
      ]
     },
     "metadata": {
      "needs_background": "light"
     },
     "output_type": "display_data"
    }
   ],
   "source": [
    "\n",
    "sn.countplot(x=df['airline_sentiment'])"
   ]
  },
  {
   "cell_type": "markdown",
   "metadata": {},
   "source": [
    "**Labels are imbalance as more than half are negative**"
   ]
  },
  {
   "cell_type": "code",
   "execution_count": 7,
   "metadata": {
    "execution": {
     "iopub.execute_input": "2023-11-06T18:08:04.859979Z",
     "iopub.status.busy": "2023-11-06T18:08:04.859361Z",
     "iopub.status.idle": "2023-11-06T18:08:05.098053Z",
     "shell.execute_reply": "2023-11-06T18:08:05.096866Z",
     "shell.execute_reply.started": "2023-11-06T18:08:04.859953Z"
    }
   },
   "outputs": [
    {
     "data": {
      "image/png": "[encoded data removed]",
      "text/plain": [
       "<Figure size 432x288 with 1 Axes>"
      ]
     },
     "metadata": {
      "needs_background": "light"
     },
     "output_type": "display_data"
    }
   ],
   "source": [
    "sn.countplot(x=df['negativereason'])\n",
    "plt.xticks(rotation=90);"
   ]
  },
  {
   "cell_type": "markdown",
   "metadata": {},
   "source": [
    "**customer service is most common issue**"
   ]
  },
  {
   "cell_type": "code",
   "execution_count": 8,
   "metadata": {
    "execution": {
     "iopub.execute_input": "2023-11-06T18:08:05.099954Z",
     "iopub.status.busy": "2023-11-06T18:08:05.099646Z",
     "iopub.status.idle": "2023-11-06T18:08:05.110789Z",
     "shell.execute_reply": "2023-11-06T18:08:05.109699Z",
     "shell.execute_reply.started": "2023-11-06T18:08:05.099929Z"
    }
   },
   "outputs": [
    {
     "data": {
      "text/html": [
       "<div>\n",
       "<style scoped>\n",
       "    .dataframe tbody tr th:only-of-type {\n",
       "        vertical-align: middle;\n",
       "    }\n",
       "\n",
       "    .dataframe tbody tr th {\n",
       "        vertical-align: top;\n",
       "    }\n",
       "\n",
       "    .dataframe thead th {\n",
       "        text-align: right;\n",
       "    }\n",
       "</style>\n",
       "<table border=\"1\" class=\"dataframe\">\n",
       "  <thead>\n",
       "    <tr style=\"text-align: right;\">\n",
       "      <th></th>\n",
       "      <th>text</th>\n",
       "      <th>airline_sentiment</th>\n",
       "    </tr>\n",
       "  </thead>\n",
       "  <tbody>\n",
       "    <tr>\n",
       "      <th>0</th>\n",
       "      <td>@VirginAmerica What @dhepburn said.</td>\n",
       "      <td>neutral</td>\n",
       "    </tr>\n",
       "    <tr>\n",
       "      <th>1</th>\n",
       "      <td>@VirginAmerica plus you've added commercials t...</td>\n",
       "      <td>positive</td>\n",
       "    </tr>\n",
       "    <tr>\n",
       "      <th>2</th>\n",
       "      <td>@VirginAmerica I didn't today... Must mean I n...</td>\n",
       "      <td>neutral</td>\n",
       "    </tr>\n",
       "    <tr>\n",
       "      <th>3</th>\n",
       "      <td>@VirginAmerica it's really aggressive to blast...</td>\n",
       "      <td>negative</td>\n",
       "    </tr>\n",
       "    <tr>\n",
       "      <th>4</th>\n",
       "      <td>@VirginAmerica and it's a really big bad thing...</td>\n",
       "      <td>negative</td>\n",
       "    </tr>\n",
       "  </tbody>\n",
       "</table>\n",
       "</div>"
      ],
      "text/plain": [
       "                                                text airline_sentiment\n",
       "0                @VirginAmerica What @dhepburn said.           neutral\n",
       "1  @VirginAmerica plus you've added commercials t...          positive\n",
       "2  @VirginAmerica I didn't today... Must mean I n...           neutral\n",
       "3  @VirginAmerica it's really aggressive to blast...          negative\n",
       "4  @VirginAmerica and it's a really big bad thing...          negative"
      ]
     },
     "execution_count": 8,
     "metadata": {},
     "output_type": "execute_result"
    }
   ],
   "source": [
    "df = df[['text','airline_sentiment']]\n",
    "df.head()"
   ]
  },
  {
   "cell_type": "markdown",
   "metadata": {},
   "source": [
    "**we only need text and sentiments from data**"
   ]
  },
  {
   "cell_type": "code",
   "execution_count": 9,
   "metadata": {
    "execution": {
     "iopub.execute_input": "2023-11-06T18:08:05.112340Z",
     "iopub.status.busy": "2023-11-06T18:08:05.112092Z",
     "iopub.status.idle": "2023-11-06T18:08:05.128881Z",
     "shell.execute_reply": "2023-11-06T18:08:05.127062Z",
     "shell.execute_reply.started": "2023-11-06T18:08:05.112319Z"
    }
   },
   "outputs": [
    {
     "data": {
      "text/plain": [
       "text                 0\n",
       "airline_sentiment    0\n",
       "dtype: int64"
      ]
     },
     "execution_count": 9,
     "metadata": {},
     "output_type": "execute_result"
    }
   ],
   "source": [
    "df.isna().sum()"
   ]
  },
  {
   "cell_type": "markdown",
   "metadata": {},
   "source": [
    "No Missing data"
   ]
  },
  {
   "cell_type": "code",
   "execution_count": 10,
   "metadata": {
    "execution": {
     "iopub.execute_input": "2023-11-06T18:08:05.131724Z",
     "iopub.status.busy": "2023-11-06T18:08:05.130776Z",
     "iopub.status.idle": "2023-11-06T18:08:05.145390Z",
     "shell.execute_reply": "2023-11-06T18:08:05.144021Z",
     "shell.execute_reply.started": "2023-11-06T18:08:05.131673Z"
    }
   },
   "outputs": [],
   "source": [
    "df['airline_sentiment']=df['airline_sentiment'].replace(['negative', 'neutral','positive'], [1, 0,2])"
   ]
  },
  {
   "cell_type": "markdown",
   "metadata": {},
   "source": [
    "**Data cleaning**"
   ]
  },
  {
   "cell_type": "code",
   "execution_count": 11,
   "metadata": {
    "execution": {
     "iopub.execute_input": "2023-11-06T18:08:05.147064Z",
     "iopub.status.busy": "2023-11-06T18:08:05.146750Z",
     "iopub.status.idle": "2023-11-06T18:08:05.418728Z",
     "shell.execute_reply": "2023-11-06T18:08:05.417488Z",
     "shell.execute_reply.started": "2023-11-06T18:08:05.147023Z"
    }
   },
   "outputs": [],
   "source": [
    "def clean_text(text):\n",
    "   \n",
    "    text = str(text).lower() # convert text to lowercase\n",
    "    text = re.sub('\\[.*?\\]', '', text) \n",
    "    text = re.sub(r'(http|https|ftp|ssh)://([\\w_-]+(?:(?:\\.[\\w_-]+)+))([\\w.,@?^=%&:/~+#-]*[\\w@?^=%&/~+#-])?', '', text) # Remove URl and tags\n",
    "    text = re.sub('<.*?>+', '', text)\n",
    "    text = re.sub(r'[^a-z0-9\\s]', '', text) # Remove punctuation\n",
    "    text = re.sub('\\n', '', text)\n",
    "    text = re.sub('\\w*\\d\\w*', '', text)\n",
    "    return text\n",
    "df['text'] = df['text'].apply(clean_text)"
   ]
  },
  {
   "cell_type": "markdown",
   "metadata": {},
   "source": [
    "**Splitting data into feature X and target y**"
   ]
  },
  {
   "cell_type": "code",
   "execution_count": 12,
   "metadata": {
    "execution": {
     "iopub.execute_input": "2023-11-06T18:08:05.420075Z",
     "iopub.status.busy": "2023-11-06T18:08:05.419822Z",
     "iopub.status.idle": "2023-11-06T18:08:05.424934Z",
     "shell.execute_reply": "2023-11-06T18:08:05.423984Z",
     "shell.execute_reply.started": "2023-11-06T18:08:05.420053Z"
    }
   },
   "outputs": [],
   "source": [
    "X = df['text']\n",
    "y = df['airline_sentiment']"
   ]
  },
  {
   "cell_type": "markdown",
   "metadata": {},
   "source": [
    "**Train Test split**"
   ]
  },
  {
   "cell_type": "code",
   "execution_count": 13,
   "metadata": {
    "execution": {
     "iopub.execute_input": "2023-11-06T18:08:05.426274Z",
     "iopub.status.busy": "2023-11-06T18:08:05.426017Z",
     "iopub.status.idle": "2023-11-06T18:08:05.441375Z",
     "shell.execute_reply": "2023-11-06T18:08:05.439946Z",
     "shell.execute_reply.started": "2023-11-06T18:08:05.426248Z"
    }
   },
   "outputs": [],
   "source": [
    "X_train, X_test, y_train, y_test = train_test_split(X, y, random_state=1)\n",
    "#X_train"
   ]
  },
  {
   "cell_type": "markdown",
   "metadata": {},
   "source": [
    "**Tranformed the Text into float**"
   ]
  },
  {
   "cell_type": "code",
   "execution_count": 14,
   "metadata": {
    "execution": {
     "iopub.execute_input": "2023-11-06T18:08:05.443245Z",
     "iopub.status.busy": "2023-11-06T18:08:05.442880Z",
     "iopub.status.idle": "2023-11-06T18:08:05.663359Z",
     "shell.execute_reply": "2023-11-06T18:08:05.662245Z",
     "shell.execute_reply.started": "2023-11-06T18:08:05.443185Z"
    }
   },
   "outputs": [],
   "source": [
    "vectorizer = TfidfVectorizer(stop_words='english')\n",
    "X_train = vectorizer.fit_transform(X_train)\n",
    "X_test = vectorizer.transform(X_test)"
   ]
  },
  {
   "cell_type": "markdown",
   "metadata": {},
   "source": [
    "**Model 1 Support Vector Classifier**"
   ]
  },
  {
   "cell_type": "code",
   "execution_count": 15,
   "metadata": {
    "execution": {
     "iopub.execute_input": "2023-11-06T18:45:36.102061Z",
     "iopub.status.busy": "2023-11-06T18:45:36.101634Z",
     "iopub.status.idle": "2023-11-06T18:45:48.863628Z",
     "shell.execute_reply": "2023-11-06T18:45:48.862283Z",
     "shell.execute_reply.started": "2023-11-06T18:45:36.102028Z"
    }
   },
   "outputs": [],
   "source": [
    "model1 = SVC()\n",
    "model1.fit(X_train,y_train)\n",
    "y_pred=model1.predict(X_test)\n"
   ]
  },
  {
   "cell_type": "code",
   "execution_count": 16,
   "metadata": {
    "execution": {
     "iopub.status.busy": "2023-11-06T18:45:27.786366Z",
     "iopub.status.idle": "2023-11-06T18:45:27.786722Z",
     "shell.execute_reply": "2023-11-06T18:45:27.786562Z",
     "shell.execute_reply.started": "2023-11-06T18:45:27.786545Z"
    }
   },
   "outputs": [
    {
     "name": "stdout",
     "output_type": "stream",
     "text": [
      "Accuracy = 0.7778688524590164\n",
      "precision = 0.7712009443069517\n",
      "recall = 0.6505077912859268\n",
      "f1 score = 0.6886893345365306\n"
     ]
    }
   ],
   "source": [
    "print('Accuracy =',model1.score(X_test, y_test))\n",
    "print(\"precision =\",precision_score(y_test, y_pred, average='macro'))\n",
    "print(\"recall =\",recall_score(y_test, y_pred, average='macro'))\n",
    "print(\"f1 score =\",f1_score(y_test, y_pred, average='macro'))"
   ]
  },
  {
   "cell_type": "code",
   "execution_count": 17,
   "metadata": {
    "execution": {
     "iopub.execute_input": "2023-11-06T18:08:20.230254Z",
     "iopub.status.busy": "2023-11-06T18:08:20.229888Z",
     "iopub.status.idle": "2023-11-06T18:08:20.235501Z",
     "shell.execute_reply": "2023-11-06T18:08:20.234578Z",
     "shell.execute_reply.started": "2023-11-06T18:08:20.230198Z"
    }
   },
   "outputs": [],
   "source": [
    "mod = GridSearchCV(estimator=model1,\n",
    "                param_grid={'C':[0.001, 0.01, 0.1, 1, 10],\n",
    "              'kernel':['linear','poly','rbf','sigmoid'],\n",
    "              'gamma':['scale','auto',0.001, 0.01, 0.1, 1, 10]},\n",
    "                cv=3)\n"
   ]
  },
  {
   "cell_type": "code",
   "execution_count": 18,
   "metadata": {
    "execution": {
     "iopub.execute_input": "2023-11-06T18:08:20.237813Z",
     "iopub.status.busy": "2023-11-06T18:08:20.236938Z",
     "iopub.status.idle": "2023-11-06T18:08:20.249819Z",
     "shell.execute_reply": "2023-11-06T18:08:20.248365Z",
     "shell.execute_reply.started": "2023-11-06T18:08:20.237782Z"
    }
   },
   "outputs": [],
   "source": [
    "#mod.fit(X_train, y_train);\n",
    "#pd.DataFrame(mod.cv_results_)"
   ]
  },
  {
   "cell_type": "markdown",
   "metadata": {},
   "source": [
    "**Model 2 Desicion Tree**"
   ]
  },
  {
   "cell_type": "code",
   "execution_count": 19,
   "metadata": {
    "execution": {
     "iopub.execute_input": "2023-11-06T18:08:20.251362Z",
     "iopub.status.busy": "2023-11-06T18:08:20.251028Z",
     "iopub.status.idle": "2023-11-06T18:08:22.832449Z",
     "shell.execute_reply": "2023-11-06T18:08:22.831385Z",
     "shell.execute_reply.started": "2023-11-06T18:08:20.251335Z"
    }
   },
   "outputs": [],
   "source": [
    "model2= DecisionTreeClassifier()\n",
    "model2.fit(X_train,y_train)\n",
    "y_pred=model2.predict(X_test)"
   ]
  },
  {
   "cell_type": "code",
   "execution_count": 20,
   "metadata": {
    "execution": {
     "iopub.execute_input": "2023-11-06T18:08:22.833955Z",
     "iopub.status.busy": "2023-11-06T18:08:22.833641Z",
     "iopub.status.idle": "2023-11-06T18:08:22.851946Z",
     "shell.execute_reply": "2023-11-06T18:08:22.850017Z",
     "shell.execute_reply.started": "2023-11-06T18:08:22.833927Z"
    }
   },
   "outputs": [
    {
     "name": "stdout",
     "output_type": "stream",
     "text": [
      "Accuracy = 0.6546448087431694\n",
      "precesion = 0.5698219230254558\n",
      "recall = 0.557412527268342\n",
      "f1 score = 0.5629959526430115\n"
     ]
    }
   ],
   "source": [
    "print('Accuracy =',model2.score(X_test, y_test))\n",
    "print(\"precesion =\",precision_score(y_test, y_pred, average='macro'))\n",
    "print(\"recall =\",recall_score(y_test, y_pred, average='macro'))\n",
    "print(\"f1 score =\",f1_score(y_test, y_pred, average='macro'))"
   ]
  },
  {
   "cell_type": "code",
   "execution_count": 21,
   "metadata": {
    "execution": {
     "iopub.execute_input": "2023-11-06T18:08:22.853708Z",
     "iopub.status.busy": "2023-11-06T18:08:22.853403Z",
     "iopub.status.idle": "2023-11-06T18:08:22.859983Z",
     "shell.execute_reply": "2023-11-06T18:08:22.858526Z",
     "shell.execute_reply.started": "2023-11-06T18:08:22.853683Z"
    }
   },
   "outputs": [],
   "source": [
    "mod = GridSearchCV(estimator=model2,\n",
    "                   param_grid = {'criterion':['gini','entropy','log_loss'],\n",
    "           'max_features':['sqrt','log2', None],\n",
    "           'max_depth':[None,5,6,7,8,9,10,11,12,13,14,15]},\n",
    "            cv=3)"
   ]
  },
  {
   "cell_type": "code",
   "execution_count": 22,
   "metadata": {
    "execution": {
     "iopub.execute_input": "2023-11-06T18:08:22.861750Z",
     "iopub.status.busy": "2023-11-06T18:08:22.861433Z",
     "iopub.status.idle": "2023-11-06T18:08:22.877297Z",
     "shell.execute_reply": "2023-11-06T18:08:22.875903Z",
     "shell.execute_reply.started": "2023-11-06T18:08:22.861724Z"
    }
   },
   "outputs": [],
   "source": [
    "#mod.fit(X_train, y_train);\n",
    "#pd.DataFrame(mod.cv_results_)"
   ]
  },
  {
   "cell_type": "markdown",
   "metadata": {},
   "source": [
    "**Model 3 Random forest**"
   ]
  },
  {
   "cell_type": "code",
   "execution_count": 23,
   "metadata": {
    "execution": {
     "iopub.execute_input": "2023-11-06T18:08:22.878843Z",
     "iopub.status.busy": "2023-11-06T18:08:22.878551Z",
     "iopub.status.idle": "2023-11-06T18:08:22.888527Z",
     "shell.execute_reply": "2023-11-06T18:08:22.887098Z",
     "shell.execute_reply.started": "2023-11-06T18:08:22.878815Z"
    }
   },
   "outputs": [],
   "source": [
    "model3= RandomForestClassifier()"
   ]
  },
  {
   "cell_type": "code",
   "execution_count": 24,
   "metadata": {
    "execution": {
     "iopub.execute_input": "2023-11-06T18:08:22.891433Z",
     "iopub.status.busy": "2023-11-06T18:08:22.890997Z",
     "iopub.status.idle": "2023-11-06T18:08:35.371008Z",
     "shell.execute_reply": "2023-11-06T18:08:35.370001Z",
     "shell.execute_reply.started": "2023-11-06T18:08:22.891397Z"
    }
   },
   "outputs": [
    {
     "data": {
      "text/plain": [
       "RandomForestClassifier()"
      ]
     },
     "execution_count": 24,
     "metadata": {},
     "output_type": "execute_result"
    }
   ],
   "source": [
    "model3.fit(X_train,y_train)\n",
    "#y_pred=model3.predict(X_test)"
   ]
  },
  {
   "cell_type": "code",
   "execution_count": 25,
   "metadata": {
    "execution": {
     "iopub.execute_input": "2023-11-06T18:08:35.372595Z",
     "iopub.status.busy": "2023-11-06T18:08:35.372236Z",
     "iopub.status.idle": "2023-11-06T18:08:35.583522Z",
     "shell.execute_reply": "2023-11-06T18:08:35.582478Z",
     "shell.execute_reply.started": "2023-11-06T18:08:35.372563Z"
    }
   },
   "outputs": [
    {
     "name": "stdout",
     "output_type": "stream",
     "text": [
      "0.7527322404371585\n",
      "precesion = 0.5698219230254558\n",
      "recall = 0.557412527268342\n",
      "f1 score = 0.5629959526430115\n"
     ]
    }
   ],
   "source": [
    "print(model3.score(X_test, y_test))\n",
    "print(\"precesion =\",precision_score(y_test, y_pred, average='macro'))\n",
    "print(\"recall =\",recall_score(y_test, y_pred, average='macro'))\n",
    "print(\"f1 score =\",f1_score(y_test, y_pred, average='macro'))"
   ]
  },
  {
   "cell_type": "code",
   "execution_count": 26,
   "metadata": {
    "execution": {
     "iopub.execute_input": "2023-11-06T18:08:35.585182Z",
     "iopub.status.busy": "2023-11-06T18:08:35.584863Z",
     "iopub.status.idle": "2023-11-06T18:08:35.590795Z",
     "shell.execute_reply": "2023-11-06T18:08:35.589654Z",
     "shell.execute_reply.started": "2023-11-06T18:08:35.585151Z"
    }
   },
   "outputs": [],
   "source": [
    "#mod = GridSearchCV(estimator=model3,\n",
    "#                   param_grid = {'criterion':['gini','entropy','log_loss'],\n",
    "#           'max_features':['sqrt','log2', None],\n",
    "#            'n_estimators':[50,100,150,200,250,300,400],\n",
    "#            'max_depth':[None,5,6,7,8,9,10,11,12,13,14,15]},\n",
    "#            cv=3)"
   ]
  },
  {
   "cell_type": "code",
   "execution_count": 27,
   "metadata": {
    "execution": {
     "iopub.execute_input": "2023-11-06T18:08:35.592627Z",
     "iopub.status.busy": "2023-11-06T18:08:35.592309Z",
     "iopub.status.idle": "2023-11-06T18:08:35.602576Z",
     "shell.execute_reply": "2023-11-06T18:08:35.601490Z",
     "shell.execute_reply.started": "2023-11-06T18:08:35.592602Z"
    }
   },
   "outputs": [],
   "source": [
    "#mod.fit(X_train, y_train);\n",
    "#pd.DataFrame(mod.cv_results_)"
   ]
  },
  {
   "cell_type": "markdown",
   "metadata": {},
   "source": [
    "**Model 4 Naive bayes classifier**"
   ]
  },
  {
   "cell_type": "markdown",
   "metadata": {},
   "source": [
    "**Gaussian Naive Bayes**"
   ]
  },
  {
   "cell_type": "code",
   "execution_count": 28,
   "metadata": {
    "execution": {
     "iopub.execute_input": "2023-11-06T18:19:18.229699Z",
     "iopub.status.busy": "2023-11-06T18:19:18.229343Z",
     "iopub.status.idle": "2023-11-06T18:19:19.718595Z",
     "shell.execute_reply": "2023-11-06T18:19:19.717309Z",
     "shell.execute_reply.started": "2023-11-06T18:19:18.229672Z"
    }
   },
   "outputs": [],
   "source": [
    "model4 = GaussianNB()\n",
    "model4.fit(X_train.toarray(),y_train)\n",
    "y_pred=model4.predict(X_test.toarray())"
   ]
  },
  {
   "cell_type": "code",
   "execution_count": 29,
   "metadata": {
    "execution": {
     "iopub.execute_input": "2023-11-06T18:19:38.282085Z",
     "iopub.status.busy": "2023-11-06T18:19:38.281683Z",
     "iopub.status.idle": "2023-11-06T18:19:38.776793Z",
     "shell.execute_reply": "2023-11-06T18:19:38.775955Z",
     "shell.execute_reply.started": "2023-11-06T18:19:38.282053Z"
    }
   },
   "outputs": [
    {
     "name": "stdout",
     "output_type": "stream",
     "text": [
      "0.47978142076502733\n",
      "precesion = 0.45310548255951355\n",
      "recall = 0.4766295186011067\n",
      "f1 score = 0.42751456497973894\n"
     ]
    }
   ],
   "source": [
    "print(model4.score(X_test.toarray(), y_test))\n",
    "print(\"precesion =\",precision_score(y_test, y_pred, average='macro'))\n",
    "print(\"recall =\",recall_score(y_test, y_pred, average='macro'))\n",
    "print(\"f1 score =\",f1_score(y_test, y_pred, average='macro'))"
   ]
  },
  {
   "cell_type": "markdown",
   "metadata": {},
   "source": [
    "**Bernoulli Naive Bayes**"
   ]
  },
  {
   "cell_type": "code",
   "execution_count": 30,
   "metadata": {
    "execution": {
     "iopub.execute_input": "2023-11-06T18:19:46.623198Z",
     "iopub.status.busy": "2023-11-06T18:19:46.622866Z",
     "iopub.status.idle": "2023-11-06T18:19:46.637158Z",
     "shell.execute_reply": "2023-11-06T18:19:46.636451Z",
     "shell.execute_reply.started": "2023-11-06T18:19:46.623175Z"
    }
   },
   "outputs": [],
   "source": [
    "model5 = BernoulliNB()\n",
    "model5.fit(X_train,y_train)\n",
    "y_pred=model5.predict(X_test)"
   ]
  },
  {
   "cell_type": "code",
   "execution_count": 31,
   "metadata": {
    "execution": {
     "iopub.execute_input": "2023-11-06T18:19:51.688202Z",
     "iopub.status.busy": "2023-11-06T18:19:51.687815Z",
     "iopub.status.idle": "2023-11-06T18:19:51.707179Z",
     "shell.execute_reply": "2023-11-06T18:19:51.705936Z",
     "shell.execute_reply.started": "2023-11-06T18:19:51.688169Z"
    }
   },
   "outputs": [
    {
     "name": "stdout",
     "output_type": "stream",
     "text": [
      "0.7281420765027322\n",
      "precesion = 0.7386801804845664\n",
      "recall = 0.5488555691479641\n",
      "f1 score = 0.5890827517128682\n"
     ]
    }
   ],
   "source": [
    "print(model5.score(X_test, y_test))\n",
    "print(\"precesion =\",precision_score(y_test, y_pred, average='macro'))\n",
    "print(\"recall =\",recall_score(y_test, y_pred, average='macro'))\n",
    "print(\"f1 score =\",f1_score(y_test, y_pred, average='macro'))"
   ]
  },
  {
   "cell_type": "markdown",
   "metadata": {},
   "source": [
    "**Multinomial Naive Bayes**"
   ]
  },
  {
   "cell_type": "code",
   "execution_count": 32,
   "metadata": {
    "execution": {
     "iopub.execute_input": "2023-11-06T18:20:03.964040Z",
     "iopub.status.busy": "2023-11-06T18:20:03.963635Z",
     "iopub.status.idle": "2023-11-06T18:20:03.975498Z",
     "shell.execute_reply": "2023-11-06T18:20:03.974303Z",
     "shell.execute_reply.started": "2023-11-06T18:20:03.964011Z"
    }
   },
   "outputs": [],
   "source": [
    "model6 = MultinomialNB()\n",
    "model6.fit(X_train,y_train)\n",
    "y_pred=model6.predict(X_test)"
   ]
  },
  {
   "cell_type": "code",
   "execution_count": 33,
   "metadata": {
    "execution": {
     "iopub.execute_input": "2023-11-06T18:20:07.802932Z",
     "iopub.status.busy": "2023-11-06T18:20:07.802279Z",
     "iopub.status.idle": "2023-11-06T18:20:07.820682Z",
     "shell.execute_reply": "2023-11-06T18:20:07.819373Z",
     "shell.execute_reply.started": "2023-11-06T18:20:07.802875Z"
    }
   },
   "outputs": [
    {
     "name": "stdout",
     "output_type": "stream",
     "text": [
      "0.6814207650273224\n",
      "precesion = 0.7731096870443834\n",
      "recall = 0.440531339676451\n",
      "f1 score = 0.4497127347269776\n"
     ]
    }
   ],
   "source": [
    "print(model6.score(X_test, y_test))\n",
    "print(\"precesion =\",precision_score(y_test, y_pred, average='macro'))\n",
    "print(\"recall =\",recall_score(y_test, y_pred, average='macro'))\n",
    "print(\"f1 score =\",f1_score(y_test, y_pred, average='macro'))"
   ]
  },
  {
   "cell_type": "markdown",
   "metadata": {},
   "source": [
    "**Complement Naive Bayes**"
   ]
  },
  {
   "cell_type": "code",
   "execution_count": 34,
   "metadata": {
    "execution": {
     "iopub.execute_input": "2023-11-06T18:20:12.725892Z",
     "iopub.status.busy": "2023-11-06T18:20:12.725449Z",
     "iopub.status.idle": "2023-11-06T18:20:12.737761Z",
     "shell.execute_reply": "2023-11-06T18:20:12.735758Z",
     "shell.execute_reply.started": "2023-11-06T18:20:12.725860Z"
    }
   },
   "outputs": [],
   "source": [
    "model7 = ComplementNB()\n",
    "model7.fit(X_train,y_train)\n",
    "y_pred=model7.predict(X_test)"
   ]
  },
  {
   "cell_type": "code",
   "execution_count": 35,
   "metadata": {
    "execution": {
     "iopub.execute_input": "2023-11-06T18:20:15.563747Z",
     "iopub.status.busy": "2023-11-06T18:20:15.563359Z",
     "iopub.status.idle": "2023-11-06T18:20:15.582583Z",
     "shell.execute_reply": "2023-11-06T18:20:15.580682Z",
     "shell.execute_reply.started": "2023-11-06T18:20:15.563718Z"
    }
   },
   "outputs": [
    {
     "name": "stdout",
     "output_type": "stream",
     "text": [
      "0.7650273224043715\n",
      "precesion = 0.7217625947072176\n",
      "recall = 0.6442644912292096\n",
      "f1 score = 0.6674975777853797\n"
     ]
    }
   ],
   "source": [
    "print(model7.score(X_test, y_test))\n",
    "print(\"precesion =\",precision_score(y_test, y_pred, average='macro'))\n",
    "print(\"recall =\",recall_score(y_test, y_pred, average='macro'))\n",
    "print(\"f1 score =\",f1_score(y_test, y_pred, average='macro'))"
   ]
  },
  {
   "cell_type": "markdown",
   "metadata": {},
   "source": [
    "**Model 5 Stochastic Gradient Classifier**"
   ]
  },
  {
   "cell_type": "code",
   "execution_count": 36,
   "metadata": {
    "execution": {
     "iopub.execute_input": "2023-11-06T18:20:20.230925Z",
     "iopub.status.busy": "2023-11-06T18:20:20.230566Z",
     "iopub.status.idle": "2023-11-06T18:20:20.526100Z",
     "shell.execute_reply": "2023-11-06T18:20:20.524353Z",
     "shell.execute_reply.started": "2023-11-06T18:20:20.230899Z"
    }
   },
   "outputs": [],
   "source": [
    "model8 = SGDClassifier()\n",
    "model8.fit(X_train,y_train)\n",
    "y_pred=model3.predict(X_test)"
   ]
  },
  {
   "cell_type": "code",
   "execution_count": 37,
   "metadata": {
    "execution": {
     "iopub.execute_input": "2023-11-06T18:20:23.954834Z",
     "iopub.status.busy": "2023-11-06T18:20:23.954491Z",
     "iopub.status.idle": "2023-11-06T18:20:23.972068Z",
     "shell.execute_reply": "2023-11-06T18:20:23.970663Z",
     "shell.execute_reply.started": "2023-11-06T18:20:23.954805Z"
    }
   },
   "outputs": [
    {
     "name": "stdout",
     "output_type": "stream",
     "text": [
      "0.7811475409836065\n",
      "precesion = 0.7130649659369288\n",
      "recall = 0.6128334989283171\n",
      "f1 score = 0.6440576284602758\n"
     ]
    }
   ],
   "source": [
    "print(model8.score(X_test, y_test))\n",
    "print(\"precesion =\",precision_score(y_test, y_pred, average='macro'))\n",
    "print(\"recall =\",recall_score(y_test, y_pred, average='macro'))\n",
    "print(\"f1 score =\",f1_score(y_test, y_pred, average='macro'))"
   ]
  },
  {
   "cell_type": "markdown",
   "metadata": {},
   "source": [
    "**Ensemble voting classifier**"
   ]
  },
  {
   "cell_type": "code",
   "execution_count": 38,
   "metadata": {
    "execution": {
     "iopub.execute_input": "2023-11-06T18:21:39.613480Z",
     "iopub.status.busy": "2023-11-06T18:21:39.613070Z",
     "iopub.status.idle": "2023-11-06T18:21:39.619184Z",
     "shell.execute_reply": "2023-11-06T18:21:39.618120Z",
     "shell.execute_reply.started": "2023-11-06T18:21:39.613448Z"
    }
   },
   "outputs": [],
   "source": [
    "eclf = VotingClassifier(estimators=[\n",
    "             ('svc', model1), ('Dt', model2), ('BNB', model5), ('MNB', model6),('CNB', model7), ('SGD', model8)], voting='hard')"
   ]
  },
  {
   "cell_type": "code",
   "execution_count": 39,
   "metadata": {
    "execution": {
     "iopub.execute_input": "2023-11-06T18:21:42.506446Z",
     "iopub.status.busy": "2023-11-06T18:21:42.506068Z",
     "iopub.status.idle": "2023-11-06T18:22:12.345066Z",
     "shell.execute_reply": "2023-11-06T18:22:12.344114Z",
     "shell.execute_reply.started": "2023-11-06T18:21:42.506419Z"
    }
   },
   "outputs": [
    {
     "name": "stdout",
     "output_type": "stream",
     "text": [
      "0.7636612021857924\n",
      "precesion = 0.7646891235126528\n",
      "recall = 0.6189652469602384\n",
      "f1 score = 0.661716278045157\n"
     ]
    }
   ],
   "source": [
    "eclf = eclf.fit(X_train, y_train)\n",
    "y_pred=eclf.predict(X_test)\n",
    "print(eclf.score(X_test, y_test))\n",
    "print(\"precesion =\",precision_score(y_test, y_pred, average='macro'))\n",
    "print(\"recall =\",recall_score(y_test, y_pred, average='macro'))\n",
    "print(\"f1 score =\",f1_score(y_test, y_pred, average='macro'))"
   ]
  },
  {
   "cell_type": "markdown",
   "metadata": {},
   "source": [
    "Support vector classifier is best as it has highest Accuracy precision recall and f1 score. we used default hyperparameters as cv was taking alot of time (more than 12 hours)"
   ]
  }
 ],
 "metadata": {
  "kernelspec": {
   "display_name": "Python 3",
   "language": "python",
   "name": "python3"
  },
  "language_info": {
   "codemirror_mode": {
    "name": "ipython",
    "version": 3
   },
   "file_extension": ".py",
   "mimetype": "text/x-python",
   "name": "python",
   "nbconvert_exporter": "python",
   "pygments_lexer": "ipython3",
   "version": "3.8.8"
  }
 },
 "nbformat": 4,
 "nbformat_minor": 4
}
